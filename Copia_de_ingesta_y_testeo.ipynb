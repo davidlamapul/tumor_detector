{
 "cells": [
  {
   "cell_type": "code",
   "execution_count": 1,
   "metadata": {
    "id": "QivdkYbdENd0",
    "pycharm": {
     "name": "#%%\n"
    }
   },
   "outputs": [],
   "source": [
    "import tensorflow as tf\n",
    "import numpy as np\n",
    "from tensorflow.keras.callbacks import LearningRateScheduler\n",
    "from sklearn.model_selection import train_test_split\n",
    "# from skimage import io\n",
    "import pandas as pd\n",
    "import os\n",
    "import matplotlib.pyplot as plt\n",
    "import pathlib\n",
    "from sklearn.pipeline import make_pipeline\n",
    "from sklearn.preprocessing import StandardScaler\n",
    "import tensorflow_io as tfio\n",
    "\n",
    "import PIL\n",
    "from tensorflow.keras import layers\n",
    "from tensorflow.keras.models import Sequential"
   ]
  },
  {
   "cell_type": "code",
   "execution_count": 2,
   "metadata": {
    "id": "8B-wj76Kgubh",
    "pycharm": {
     "name": "#%%\n"
    }
   },
   "outputs": [
    {
     "data": {
      "text/plain": "['data.csv',\n 'data_mask.csv',\n 'resnet-50-MRI.json',\n 'ResUNet-MRI.json',\n 'TCGA_CS_4941_19960909',\n 'TCGA_CS_4942_19970222',\n 'TCGA_CS_4943_20000902',\n 'TCGA_CS_4944_20010208',\n 'TCGA_CS_5393_19990606',\n 'TCGA_CS_5395_19981004',\n 'TCGA_CS_5396_20010302',\n 'TCGA_CS_5397_20010315',\n 'TCGA_CS_6186_20000601',\n 'TCGA_CS_6188_20010812',\n 'TCGA_CS_6290_20000917',\n 'TCGA_CS_6665_20010817',\n 'TCGA_CS_6666_20011109',\n 'TCGA_CS_6667_20011105',\n 'TCGA_CS_6668_20011025',\n 'TCGA_CS_6669_20020102',\n 'TCGA_DU_5849_19950405',\n 'TCGA_DU_5851_19950428',\n 'TCGA_DU_5852_19950709',\n 'TCGA_DU_5853_19950823',\n 'TCGA_DU_5854_19951104',\n 'TCGA_DU_5855_19951217',\n 'TCGA_DU_5871_19941206',\n 'TCGA_DU_5872_19950223',\n 'TCGA_DU_5874_19950510',\n 'TCGA_DU_6399_19830416',\n 'TCGA_DU_6400_19830518',\n 'TCGA_DU_6401_19831001',\n 'TCGA_DU_6404_19850629',\n 'TCGA_DU_6405_19851005',\n 'TCGA_DU_6407_19860514',\n 'TCGA_DU_6408_19860521',\n 'TCGA_DU_7008_19830723',\n 'TCGA_DU_7010_19860307',\n 'TCGA_DU_7013_19860523',\n 'TCGA_DU_7014_19860618',\n 'TCGA_DU_7018_19911220',\n 'TCGA_DU_7019_19940908',\n 'TCGA_DU_7294_19890104',\n 'TCGA_DU_7298_19910324',\n 'TCGA_DU_7299_19910417',\n 'TCGA_DU_7300_19910814',\n 'TCGA_DU_7301_19911112',\n 'TCGA_DU_7302_19911203',\n 'TCGA_DU_7304_19930325',\n 'TCGA_DU_7306_19930512',\n 'TCGA_DU_7309_19960831',\n 'TCGA_DU_8162_19961029',\n 'TCGA_DU_8163_19961119',\n 'TCGA_DU_8164_19970111',\n 'TCGA_DU_8165_19970205',\n 'TCGA_DU_8166_19970322',\n 'TCGA_DU_8167_19970402',\n 'TCGA_DU_8168_19970503',\n 'TCGA_DU_A5TP_19970614',\n 'TCGA_DU_A5TR_19970726',\n 'TCGA_DU_A5TS_19970726',\n 'TCGA_DU_A5TT_19980318',\n 'TCGA_DU_A5TU_19980312',\n 'TCGA_DU_A5TW_19980228',\n 'TCGA_DU_A5TY_19970709',\n 'TCGA_EZ_7264_20010816',\n 'TCGA_FG_5962_20000626',\n 'TCGA_FG_5964_20010511',\n 'TCGA_FG_6688_20020215',\n 'TCGA_FG_6689_20020326',\n 'TCGA_FG_6690_20020226',\n 'TCGA_FG_6691_20020405',\n 'TCGA_FG_6692_20020606',\n 'TCGA_FG_7634_20000128',\n 'TCGA_FG_7637_20000922',\n 'TCGA_FG_7643_20021104',\n 'TCGA_FG_8189_20030516',\n 'TCGA_FG_A4MT_20020212',\n 'TCGA_FG_A4MU_20030903',\n 'TCGA_FG_A60K_20040224',\n 'TCGA_HT_7473_19970826',\n 'TCGA_HT_7475_19970918',\n 'TCGA_HT_7602_19951103',\n 'TCGA_HT_7605_19950916',\n 'TCGA_HT_7608_19940304',\n 'TCGA_HT_7616_19940813',\n 'TCGA_HT_7680_19970202',\n 'TCGA_HT_7684_19950816',\n 'TCGA_HT_7686_19950629',\n 'TCGA_HT_7690_19960312',\n 'TCGA_HT_7692_19960724',\n 'TCGA_HT_7693_19950520',\n 'TCGA_HT_7694_19950404',\n 'TCGA_HT_7855_19951020',\n 'TCGA_HT_7856_19950831',\n 'TCGA_HT_7860_19960513',\n 'TCGA_HT_7874_19950902',\n 'TCGA_HT_7877_19980917',\n 'TCGA_HT_7879_19981009',\n 'TCGA_HT_7881_19981015',\n 'TCGA_HT_7882_19970125',\n 'TCGA_HT_7884_19980913',\n 'TCGA_HT_8018_19970411',\n 'TCGA_HT_8105_19980826',\n 'TCGA_HT_8106_19970727',\n 'TCGA_HT_8107_19980708',\n 'TCGA_HT_8111_19980330',\n 'TCGA_HT_8113_19930809',\n 'TCGA_HT_8114_19981030',\n 'TCGA_HT_8563_19981209',\n 'TCGA_HT_A5RC_19990831',\n 'TCGA_HT_A616_19991226',\n 'TCGA_HT_A61A_20000127',\n 'TCGA_HT_A61B_19991127',\n 'utilities.py',\n 'weights.hdf5',\n 'weights_seg.hdf5']"
     },
     "execution_count": 2,
     "metadata": {},
     "output_type": "execute_result"
    }
   ],
   "source": [
    "PROJECT_PATH = os.getcwd()\n",
    "\n",
    "os.chdir('data/Healthcare AI Datasets/Brain_MRI')\n",
    "os.listdir()"
   ]
  },
  {
   "cell_type": "code",
   "execution_count": 3,
   "outputs": [],
   "source": [
    "def plot_loss(history):\n",
    "    plt.plot(history.history['loss'], label='loss')\n",
    "    if history.history.get('val_loss'):\n",
    "        plt.plot(history.history['val_loss'], label='val_loss', alpha=0.5)\n",
    "    plt.yscale('log')\n",
    "    plt.xlabel('Epoch')\n",
    "    plt.ylabel('Error')\n",
    "    plt.legend()\n",
    "    plt.grid(True)\n",
    "    plt.show()"
   ],
   "metadata": {
    "collapsed": false,
    "pycharm": {
     "name": "#%%\n"
    }
   }
  },
  {
   "cell_type": "code",
   "execution_count": 4,
   "metadata": {
    "id": "bdFtVdGQCm2x",
    "pycharm": {
     "name": "#%%\n"
    }
   },
   "outputs": [],
   "source": [
    "data = pd.read_csv('data_mask.csv')"
   ]
  },
  {
   "cell_type": "code",
   "execution_count": 5,
   "metadata": {
    "id": "08qInxlRB79p",
    "pycharm": {
     "name": "#%%\n"
    }
   },
   "outputs": [],
   "source": [
    "def balance_data(data):\n",
    "  data_healthy = data.query('mask == 0')\n",
    "  data_unhealthy = data.query('mask == 1')\n",
    "\n",
    "  data_healthy = data_healthy.sample(n=data_unhealthy.shape[0], random_state=2022)\n",
    "\n",
    "  return pd.concat([data_healthy, data_unhealthy]).sample(frac=1).reset_index()"
   ]
  },
  {
   "cell_type": "code",
   "execution_count": 6,
   "metadata": {
    "id": "eHhZK3nTCRbM",
    "pycharm": {
     "name": "#%%\n"
    }
   },
   "outputs": [],
   "source": [
    "data = balance_data(data)"
   ]
  },
  {
   "cell_type": "code",
   "execution_count": 7,
   "outputs": [
    {
     "data": {
      "text/plain": "      index             patient_id  \\\n0      1186  TCGA_DU_7013_19860523   \n1      2359  TCGA_FG_A4MT_20020212   \n2      2806  TCGA_HT_7690_19960312   \n3      1777  TCGA_DU_A5TT_19980318   \n4      3681  TCGA_FG_6688_20020215   \n...     ...                    ...   \n2741     17  TCGA_CS_5395_19981004   \n2742   1253  TCGA_DU_7008_19830723   \n2743   3168  TCGA_HT_8111_19980330   \n2744   2669  TCGA_HT_7616_19940813   \n2745   2791  TCGA_HT_7874_19950902   \n\n                                             image_path  \\\n0     TCGA_HT_8018_19970411/TCGA_HT_8018_19970411_11...   \n1     TCGA_HT_7616_19940813/TCGA_HT_7616_19940813_22...   \n2     TCGA_DU_A5TP_19970614/TCGA_DU_A5TP_19970614_28...   \n3     TCGA_DU_5872_19950223/TCGA_DU_5872_19950223_17...   \n4     TCGA_DU_A5TT_19980318/TCGA_DU_A5TT_19980318_50...   \n...                                                 ...   \n2741  TCGA_DU_5872_19950223/TCGA_DU_5872_19950223_1.tif   \n2742  TCGA_DU_A5TS_19970726/TCGA_DU_A5TS_19970726_12...   \n2743  TCGA_DU_6399_19830416/TCGA_DU_6399_19830416_34...   \n2744  TCGA_FG_5964_20010511/TCGA_FG_5964_20010511_26...   \n2745  TCGA_DU_7018_19911220/TCGA_DU_7018_19911220_28...   \n\n                                              mask_path  mask  \n0     TCGA_HT_8018_19970411/TCGA_HT_8018_19970411_11...     1  \n1     TCGA_HT_7616_19940813/TCGA_HT_7616_19940813_22...     1  \n2     TCGA_DU_A5TP_19970614/TCGA_DU_A5TP_19970614_28...     1  \n3     TCGA_DU_5872_19950223/TCGA_DU_5872_19950223_17...     0  \n4     TCGA_DU_A5TT_19980318/TCGA_DU_A5TT_19980318_50...     1  \n...                                                 ...   ...  \n2741  TCGA_DU_5872_19950223/TCGA_DU_5872_19950223_1_...     0  \n2742  TCGA_DU_A5TS_19970726/TCGA_DU_A5TS_19970726_12...     1  \n2743  TCGA_DU_6399_19830416/TCGA_DU_6399_19830416_34...     0  \n2744  TCGA_FG_5964_20010511/TCGA_FG_5964_20010511_26...     0  \n2745  TCGA_DU_7018_19911220/TCGA_DU_7018_19911220_28...     1  \n\n[2746 rows x 5 columns]",
      "text/html": "<div>\n<style scoped>\n    .dataframe tbody tr th:only-of-type {\n        vertical-align: middle;\n    }\n\n    .dataframe tbody tr th {\n        vertical-align: top;\n    }\n\n    .dataframe thead th {\n        text-align: right;\n    }\n</style>\n<table border=\"1\" class=\"dataframe\">\n  <thead>\n    <tr style=\"text-align: right;\">\n      <th></th>\n      <th>index</th>\n      <th>patient_id</th>\n      <th>image_path</th>\n      <th>mask_path</th>\n      <th>mask</th>\n    </tr>\n  </thead>\n  <tbody>\n    <tr>\n      <th>0</th>\n      <td>1186</td>\n      <td>TCGA_DU_7013_19860523</td>\n      <td>TCGA_HT_8018_19970411/TCGA_HT_8018_19970411_11...</td>\n      <td>TCGA_HT_8018_19970411/TCGA_HT_8018_19970411_11...</td>\n      <td>1</td>\n    </tr>\n    <tr>\n      <th>1</th>\n      <td>2359</td>\n      <td>TCGA_FG_A4MT_20020212</td>\n      <td>TCGA_HT_7616_19940813/TCGA_HT_7616_19940813_22...</td>\n      <td>TCGA_HT_7616_19940813/TCGA_HT_7616_19940813_22...</td>\n      <td>1</td>\n    </tr>\n    <tr>\n      <th>2</th>\n      <td>2806</td>\n      <td>TCGA_HT_7690_19960312</td>\n      <td>TCGA_DU_A5TP_19970614/TCGA_DU_A5TP_19970614_28...</td>\n      <td>TCGA_DU_A5TP_19970614/TCGA_DU_A5TP_19970614_28...</td>\n      <td>1</td>\n    </tr>\n    <tr>\n      <th>3</th>\n      <td>1777</td>\n      <td>TCGA_DU_A5TT_19980318</td>\n      <td>TCGA_DU_5872_19950223/TCGA_DU_5872_19950223_17...</td>\n      <td>TCGA_DU_5872_19950223/TCGA_DU_5872_19950223_17...</td>\n      <td>0</td>\n    </tr>\n    <tr>\n      <th>4</th>\n      <td>3681</td>\n      <td>TCGA_FG_6688_20020215</td>\n      <td>TCGA_DU_A5TT_19980318/TCGA_DU_A5TT_19980318_50...</td>\n      <td>TCGA_DU_A5TT_19980318/TCGA_DU_A5TT_19980318_50...</td>\n      <td>1</td>\n    </tr>\n    <tr>\n      <th>...</th>\n      <td>...</td>\n      <td>...</td>\n      <td>...</td>\n      <td>...</td>\n      <td>...</td>\n    </tr>\n    <tr>\n      <th>2741</th>\n      <td>17</td>\n      <td>TCGA_CS_5395_19981004</td>\n      <td>TCGA_DU_5872_19950223/TCGA_DU_5872_19950223_1.tif</td>\n      <td>TCGA_DU_5872_19950223/TCGA_DU_5872_19950223_1_...</td>\n      <td>0</td>\n    </tr>\n    <tr>\n      <th>2742</th>\n      <td>1253</td>\n      <td>TCGA_DU_7008_19830723</td>\n      <td>TCGA_DU_A5TS_19970726/TCGA_DU_A5TS_19970726_12...</td>\n      <td>TCGA_DU_A5TS_19970726/TCGA_DU_A5TS_19970726_12...</td>\n      <td>1</td>\n    </tr>\n    <tr>\n      <th>2743</th>\n      <td>3168</td>\n      <td>TCGA_HT_8111_19980330</td>\n      <td>TCGA_DU_6399_19830416/TCGA_DU_6399_19830416_34...</td>\n      <td>TCGA_DU_6399_19830416/TCGA_DU_6399_19830416_34...</td>\n      <td>0</td>\n    </tr>\n    <tr>\n      <th>2744</th>\n      <td>2669</td>\n      <td>TCGA_HT_7616_19940813</td>\n      <td>TCGA_FG_5964_20010511/TCGA_FG_5964_20010511_26...</td>\n      <td>TCGA_FG_5964_20010511/TCGA_FG_5964_20010511_26...</td>\n      <td>0</td>\n    </tr>\n    <tr>\n      <th>2745</th>\n      <td>2791</td>\n      <td>TCGA_HT_7874_19950902</td>\n      <td>TCGA_DU_7018_19911220/TCGA_DU_7018_19911220_28...</td>\n      <td>TCGA_DU_7018_19911220/TCGA_DU_7018_19911220_28...</td>\n      <td>1</td>\n    </tr>\n  </tbody>\n</table>\n<p>2746 rows × 5 columns</p>\n</div>"
     },
     "execution_count": 7,
     "metadata": {},
     "output_type": "execute_result"
    }
   ],
   "source": [
    "data"
   ],
   "metadata": {
    "collapsed": false,
    "pycharm": {
     "name": "#%%\n"
    }
   }
  },
  {
   "cell_type": "code",
   "execution_count": 8,
   "outputs": [],
   "source": [
    "os.chdir(PROJECT_PATH)\n",
    "os.chdir('data/')\n",
    "\n",
    "if 'tumors' not in os.listdir():\n",
    "    import shutil\n",
    "\n",
    "    os.mkdir('tumors')\n",
    "    os.mkdir('tumors/0')\n",
    "    os.mkdir('tumors/1')\n",
    "\n",
    "    for i in data.values:\n",
    "        src = 'Healthcare AI Datasets/Brain_MRI/'+i[2]\n",
    "\n",
    "        print(src)\n",
    "        if i[4] == 0:\n",
    "            dest = 'tumors/0/'\n",
    "            shutil.copy(src, dest)\n",
    "        else:\n",
    "            dest = 'tumors/1/'\n",
    "            shutil.copy(src, dest)"
   ],
   "metadata": {
    "collapsed": false,
    "pycharm": {
     "name": "#%%\n"
    }
   }
  },
  {
   "cell_type": "code",
   "execution_count": null,
   "outputs": [],
   "source": [
    "data_dir = pathlib.Path('./tumors/')\n",
    "batch_size = 64\n",
    "img_height = 256\n",
    "img_width = 256"
   ],
   "metadata": {
    "collapsed": false,
    "pycharm": {
     "name": "#%%\n"
    }
   }
  },
  {
   "cell_type": "code",
   "execution_count": null,
   "outputs": [],
   "source": [
    "# train_ds = tf.keras.utils.image_dataset_from_directory(\n",
    "#   data_dir,\n",
    "#   validation_split=0.2,\n",
    "#   subset=\"training\",\n",
    "#   seed=123,\n",
    "#   image_size=(img_height, img_width),\n",
    "#   batch_size=batch_size)"
   ],
   "metadata": {
    "collapsed": false,
    "pycharm": {
     "name": "#%%\n"
    }
   }
  },
  {
   "cell_type": "code",
   "execution_count": null,
   "outputs": [],
   "source": [
    "image_count = len(list(data_dir.glob('*/*.tif')))\n",
    "print(image_count)"
   ],
   "metadata": {
    "collapsed": false,
    "pycharm": {
     "name": "#%%\n"
    }
   }
  },
  {
   "cell_type": "code",
   "execution_count": null,
   "outputs": [],
   "source": [
    "list_ds = tf.data.Dataset.list_files(f'{data_dir}/*/*', shuffle=False)\n",
    "list_ds = list_ds.shuffle(image_count, reshuffle_each_iteration=False)"
   ],
   "metadata": {
    "collapsed": false,
    "pycharm": {
     "name": "#%%\n"
    }
   }
  },
  {
   "cell_type": "code",
   "execution_count": null,
   "outputs": [],
   "source": [
    "for f in list_ds.take(5):\n",
    "  print(f.numpy())"
   ],
   "metadata": {
    "collapsed": false,
    "pycharm": {
     "name": "#%%\n"
    }
   }
  },
  {
   "cell_type": "code",
   "execution_count": null,
   "outputs": [],
   "source": [
    "class_names = np.array(sorted([item.name for item in data_dir.glob('*') if item.name != \"LICENSE.txt\"]))\n",
    "print(class_names)"
   ],
   "metadata": {
    "collapsed": false,
    "pycharm": {
     "name": "#%%\n"
    }
   }
  },
  {
   "cell_type": "code",
   "execution_count": null,
   "outputs": [],
   "source": [
    "val_size = int(image_count * 0.2)\n",
    "train_ds = list_ds.skip(val_size)\n",
    "val_ds = list_ds.take(val_size)\n",
    "\n",
    "print(tf.data.experimental.cardinality(train_ds).numpy())\n",
    "print(tf.data.experimental.cardinality(val_ds).numpy())"
   ],
   "metadata": {
    "collapsed": false,
    "pycharm": {
     "name": "#%%\n"
    }
   }
  },
  {
   "cell_type": "code",
   "execution_count": null,
   "outputs": [],
   "source": [
    "def get_label(file_path):\n",
    "  # Convert the path to a list of path components\n",
    "  parts = tf.strings.split(file_path, os.path.sep)\n",
    "  # The second to last is the class-directory\n",
    "  one_hot = parts[-2] == class_names\n",
    "  # Integer encode the label\n",
    "  return tf.argmax(one_hot)"
   ],
   "metadata": {
    "collapsed": false,
    "pycharm": {
     "name": "#%%\n"
    }
   }
  },
  {
   "cell_type": "code",
   "execution_count": null,
   "outputs": [],
   "source": [
    "def decode_img(img):\n",
    "  # Convert the compressed string to a 3D uint8 tensor\n",
    "  img = tfio.experimental.image.decode_tiff(img)\n",
    "  # Resize the image to the desired size\n",
    "  # return tf.image.resize(img, [img_height, img_width])\n",
    "  return img"
   ],
   "metadata": {
    "collapsed": false,
    "pycharm": {
     "name": "#%%\n"
    }
   }
  },
  {
   "cell_type": "code",
   "execution_count": null,
   "outputs": [],
   "source": [
    "def process_path(file_path):\n",
    "  label = get_label(file_path)\n",
    "  # Load the raw data from the file as a string\n",
    "  img = tf.io.read_file(file_path)\n",
    "  img = decode_img(img)\n",
    "  return img, label"
   ],
   "metadata": {
    "collapsed": false,
    "pycharm": {
     "name": "#%%\n"
    }
   }
  },
  {
   "cell_type": "code",
   "execution_count": null,
   "outputs": [],
   "source": [
    "AUTOTUNE = tf.data.AUTOTUNE\n",
    "\n",
    "# Set `num_parallel_calls` so multiple images are loaded/processed in parallel.\n",
    "train_ds = train_ds.map(process_path, num_parallel_calls=AUTOTUNE)\n",
    "val_ds = val_ds.map(process_path, num_parallel_calls=AUTOTUNE)"
   ],
   "metadata": {
    "collapsed": false,
    "pycharm": {
     "name": "#%%\n"
    }
   }
  },
  {
   "cell_type": "code",
   "execution_count": null,
   "outputs": [],
   "source": [
    "for image, label in train_ds.take(1):\n",
    "  print(\"Image shape: \", image.numpy().shape)\n",
    "  print(\"Label: \", label.numpy())"
   ],
   "metadata": {
    "collapsed": false,
    "pycharm": {
     "name": "#%%\n"
    }
   }
  },
  {
   "cell_type": "code",
   "execution_count": null,
   "outputs": [],
   "source": [
    "def configure_for_performance(ds):\n",
    "  ds = ds.cache()\n",
    "  ds = ds.shuffle(buffer_size=1000)\n",
    "  ds = ds.batch(batch_size)\n",
    "  ds = ds.prefetch(buffer_size=AUTOTUNE)\n",
    "  return ds\n",
    "\n",
    "train_ds = configure_for_performance(train_ds)\n",
    "val_ds = configure_for_performance(val_ds)"
   ],
   "metadata": {
    "collapsed": false,
    "pycharm": {
     "name": "#%%\n"
    }
   }
  },
  {
   "cell_type": "code",
   "execution_count": null,
   "outputs": [],
   "source": [
    "image_batch, label_batch = next(iter(train_ds))\n",
    "\n",
    "plt.figure(figsize=(10, 10))\n",
    "for i in range(9):\n",
    "  ax = plt.subplot(3, 3, i + 1)\n",
    "  plt.imshow(image_batch[i].numpy().astype(\"uint8\"))\n",
    "  label = label_batch[i]\n",
    "  plt.title(class_names[label])\n",
    "  plt.axis(\"off\")"
   ],
   "metadata": {
    "collapsed": false,
    "pycharm": {
     "name": "#%%\n"
    }
   }
  },
  {
   "cell_type": "code",
   "execution_count": null,
   "outputs": [],
   "source": [
    "num_classes = len(class_names)\n",
    "\n",
    "model = Sequential([\n",
    "  layers.Rescaling(1./255, input_shape=(img_height, img_width, 4)),\n",
    "  layers.Conv2D(16, 3, padding='same', activation='relu'),\n",
    "  layers.MaxPooling2D(),\n",
    "  layers.Conv2D(32, 3, padding='same', activation='relu'),\n",
    "  layers.MaxPooling2D(),\n",
    "  layers.Conv2D(64, 3, padding='same', activation='relu'),\n",
    "  layers.MaxPooling2D(),\n",
    "  layers.Flatten(),\n",
    "  layers.Dense(128, activation='relu'),\n",
    "  layers.Dense(num_classes)\n",
    "])"
   ],
   "metadata": {
    "collapsed": false,
    "pycharm": {
     "name": "#%%\n"
    }
   }
  },
  {
   "cell_type": "code",
   "execution_count": null,
   "outputs": [],
   "source": [
    "model.compile(optimizer='adam',\n",
    "              loss=tf.keras.losses.SparseCategoricalCrossentropy(from_logits=True),\n",
    "              metrics=['accuracy'])"
   ],
   "metadata": {
    "collapsed": false,
    "pycharm": {
     "name": "#%%\n"
    }
   }
  },
  {
   "cell_type": "code",
   "execution_count": null,
   "outputs": [],
   "source": [
    "model.summary()"
   ],
   "metadata": {
    "collapsed": false,
    "pycharm": {
     "name": "#%%\n"
    }
   }
  },
  {
   "cell_type": "code",
   "execution_count": null,
   "outputs": [],
   "source": [
    "epochs=30\n",
    "early_stopping_cb = tf.keras.callbacks.EarlyStopping(patience=4)\n",
    "reduce_lr_cb = tf.keras.callbacks.ReduceLROnPlateau(patience=2)\n",
    "\n",
    "history = model.fit(\n",
    "  train_ds,\n",
    "  validation_data=val_ds,\n",
    "  epochs=epochs,\n",
    "  callbacks=[early_stopping_cb, reduce_lr_cb]\n",
    ")"
   ],
   "metadata": {
    "collapsed": false,
    "pycharm": {
     "name": "#%%\n"
    }
   }
  },
  {
   "cell_type": "code",
   "execution_count": null,
   "outputs": [],
   "source": [
    "model.evaluate(val_ds)"
   ],
   "metadata": {
    "collapsed": false,
    "pycharm": {
     "name": "#%%\n"
    }
   }
  },
  {
   "cell_type": "code",
   "execution_count": null,
   "outputs": [],
   "source": [
    "acc = history.history['accuracy']\n",
    "val_acc = history.history['val_accuracy']\n",
    "\n",
    "loss = history.history['loss']\n",
    "val_loss = history.history['val_loss']\n",
    "\n",
    "epochs_range = range(13)\n",
    "\n",
    "plt.figure(figsize=(8, 8))\n",
    "plt.subplot(1, 2, 1)\n",
    "plt.plot(epochs_range, acc, label='Training Accuracy')\n",
    "plt.plot(epochs_range, val_acc, label='Validation Accuracy')\n",
    "plt.legend(loc='lower right')\n",
    "plt.title('Training and Validation Accuracy')\n",
    "\n",
    "plt.subplot(1, 2, 2)\n",
    "plt.plot(epochs_range, loss, label='Training Loss')\n",
    "plt.plot(epochs_range, val_loss, label='Validation Loss')\n",
    "plt.legend(loc='upper right')\n",
    "plt.title('Training and Validation Loss')\n",
    "plt.show()"
   ],
   "metadata": {
    "collapsed": false,
    "pycharm": {
     "name": "#%%\n"
    }
   }
  },
  {
   "cell_type": "markdown",
   "source": [
    "def model300():\n",
    "    model = tf.keras.models.Sequential()\n",
    "    model.add(tf.keras.layers.Flatten(input_shape=(256, 256, 3)))\n",
    "    model.add(tf.keras.layers.Dense(1000, activation=tf.nn.relu))\n",
    "    model.add(tf.keras.layers.Dropout(.2))\n",
    "    model.add(tf.keras.layers.Dense(250, activation=tf.nn.relu))\n",
    "    model.add(tf.keras.layers.Dropout(.2))\n",
    "    model.add(tf.keras.layers.Dense(100, activation=tf.nn.relu))\n",
    "    return model\n",
    "\n",
    "\n",
    "def nn():\n",
    "    reduce_lr_cb = tf.keras.callbacks.ReduceLROnPlateau(patience=5)\n",
    "    early_stopping_cb = tf.keras.callbacks.EarlyStopping(patience=10)\n",
    "\n",
    "    model = model300()\n",
    "\n",
    "    model.add(tf.keras.layers.Dense(2, activation=tf.nn.softmax))\n",
    "    model.compile(optimizer=tf.optimizers.Adam(),\n",
    "                  loss='sparse_categorical_crossentropy',\n",
    "                  metrics=['accuracy'])\n",
    "\n",
    "    history = model.fit(train_ds, validation_data=val_ds, epochs=200, validation_split=0.2,\n",
    "                          callbacks=[reduce_lr_cb, early_stopping_cb])\n",
    "\n",
    "    val_loss, val_acc = model.evaluate(train_ds)\n",
    "    plot_loss(history)\n",
    "    print('Validation loss: ', val_loss)\n",
    "    print('Accuracy: ', round(val_acc, 2))\n",
    "\n",
    "\n",
    "nn()"
   ],
   "metadata": {
    "collapsed": false,
    "pycharm": {
     "name": "#%% md\n"
    }
   }
  },
  {
   "cell_type": "code",
   "execution_count": null,
   "outputs": [],
   "source": [
    "# X_train.shape"
   ],
   "metadata": {
    "collapsed": false,
    "pycharm": {
     "name": "#%%\n"
    }
   }
  },
  {
   "cell_type": "code",
   "execution_count": null,
   "outputs": [],
   "source": [
    "# from tensorflow.keras.applications.resnet50 import ResNet50, preprocess_input\n",
    "#\n",
    "# model = ResNet50(input_shape=(256,256,3),include_top=False)\n",
    "#\n",
    "# model.compile(optimizer=tf.optimizers.Adam(),\n",
    "#               loss='sparse_categorical_crossentropy',\n",
    "#               metrics=['accuracy'])\n",
    "#\n",
    "# history = model.fit(X_train, y_train, epochs=5, validation_split=0.2)\n",
    "#\n",
    "# val_loss, val_acc = model.evaluate(X_test, y_test)"
   ],
   "metadata": {
    "collapsed": false,
    "pycharm": {
     "name": "#%%\n"
    }
   }
  },
  {
   "cell_type": "code",
   "execution_count": null,
   "outputs": [],
   "source": [],
   "metadata": {
    "collapsed": false,
    "pycharm": {
     "name": "#%%\n"
    }
   }
  },
  {
   "cell_type": "code",
   "execution_count": null,
   "metadata": {
    "id": "UwB-Jo8HSupl",
    "pycharm": {
     "name": "#%%\n"
    }
   },
   "outputs": [],
   "source": [
    "# from tensorflow.keras.applications.resnet50 import ResNet50, preprocess_input\n",
    "#\n",
    "# model = ResNet50(input_shape=(256,256,3),include_top=False)\n",
    "#\n",
    "# model.compile(optimizer=tf.optimizers.Adam(),\n",
    "#               loss='sparse_categorical_crossentropy',\n",
    "#               metrics=['accuracy'])\n",
    "#\n",
    "# history = model.fit(X_train, y_train, epochs=5, validation_split=0.2)\n",
    "#\n",
    "# val_loss, val_acc = model.evaluate(X_test, y_test)"
   ]
  },
  {
   "cell_type": "code",
   "execution_count": null,
   "outputs": [],
   "source": [],
   "metadata": {
    "collapsed": false,
    "pycharm": {
     "name": "#%%\n"
    }
   }
  }
 ],
 "metadata": {
  "colab": {
   "collapsed_sections": [],
   "name": "Copia de ingesta y testeo.ipynb",
   "provenance": []
  },
  "kernelspec": {
   "display_name": "Python 3",
   "name": "python3"
  },
  "language_info": {
   "name": "python"
  }
 },
 "nbformat": 4,
 "nbformat_minor": 0
}