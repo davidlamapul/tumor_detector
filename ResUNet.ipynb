{
 "cells": [
  {
   "cell_type": "markdown",
   "metadata": {
    "pycharm": {
     "name": "#%% md\n"
    }
   },
   "source": [
    "https://www.kaggle.com/code/ekhtiar/resunet-a-baseline-on-tensorflow/notebook"
   ]
  },
  {
   "cell_type": "code",
   "execution_count": 1,
   "metadata": {
    "pycharm": {
     "name": "#%%\n"
    }
   },
   "outputs": [],
   "source": [
    "import os\n",
    "\n",
    "import keras.metrics\n",
    "import tensorflow as tf\n",
    "from tensorflow import keras\n",
    "from tensorflow.keras.layers import Conv2D, BatchNormalization, Activation, MaxPool2D, UpSampling2D, Concatenate, Input\n",
    "from tensorflow.keras.models import Model\n",
    "import pandas as pd\n",
    "from sklearn.model_selection import train_test_split\n",
    "import utilities\n",
    "from utilities import DataGenerator\n",
    "import matplotlib.pyplot as plt\n",
    "import numpy as np\n",
    "import cv2"
   ]
  },
  {
   "cell_type": "code",
   "execution_count": 2,
   "metadata": {
    "pycharm": {
     "name": "#%%\n"
    }
   },
   "outputs": [],
   "source": [
    "os.chdir('data/Healthcare AI Datasets/Brain_MRI')\n",
    "brain_df = pd.read_csv('data_mask.csv')"
   ]
  },
  {
   "cell_type": "code",
   "execution_count": 3,
   "metadata": {
    "pycharm": {
     "name": "#%%\n"
    }
   },
   "outputs": [],
   "source": [
    "IMG_SIZE = 128"
   ]
  },
  {
   "cell_type": "code",
   "execution_count": 4,
   "metadata": {
    "pycharm": {
     "name": "#%%\n"
    }
   },
   "outputs": [],
   "source": [
    "brain_df_mask = brain_df[brain_df['mask'] == 1]\n",
    "brain_df_mask.shape\n",
    "\n",
    "#TODO: entrenando con todo\n",
    "X_train, X_val = train_test_split(brain_df, test_size=0.15)\n",
    "X_test, X_val = train_test_split(X_val, test_size=0.5)\n",
    "\n",
    "train_ids = list(X_train.image_path)\n",
    "train_mask = list(X_train.mask_path)\n",
    "\n",
    "val_ids = list(X_val.image_path)\n",
    "val_mask= list(X_val.mask_path)\n",
    "\n",
    "training_generator = DataGenerator(train_ids,train_mask, img_h = IMG_SIZE, img_w = IMG_SIZE)\n",
    "validation_generator = DataGenerator(val_ids,val_mask,  img_h = IMG_SIZE, img_w = IMG_SIZE)"
   ]
  },
  {
   "cell_type": "markdown",
   "metadata": {
    "pycharm": {
     "name": "#%% md\n"
    }
   },
   "source": [
    "X, y = validation_generator.__getitem__(2)\n",
    "\n",
    "plt.imshow(X[0])"
   ]
  },
  {
   "cell_type": "markdown",
   "metadata": {
    "pycharm": {
     "name": "#%% md\n"
    }
   },
   "source": [
    "plt.imshow(y[0])"
   ]
  },
  {
   "cell_type": "markdown",
   "metadata": {
    "pycharm": {
     "name": "#%% md\n"
    }
   },
   "source": [
    "from skimage import io\n",
    "img_path = 'TCGA_CS_4941_19960909/TCGA_CS_4941_19960909_13.tif'\n",
    "mask_path = 'TCGA_CS_4941_19960909/TCGA_CS_4941_19960909_13_mask.tif'"
   ]
  },
  {
   "cell_type": "markdown",
   "metadata": {
    "pycharm": {
     "name": "#%% md\n"
    }
   },
   "source": [
    "z = np.empty((2, IMG_SIZE, IMG_SIZE, 3),)\n",
    "for i in range(2):\n",
    "    img = cv2.imread(img_path)\n",
    "    mask = cv2.imread(mask_path)\n",
    "\n",
    "    img = cv2.resize(img,(128 ,128), interpolation = cv2.INTER_NEAREST)\n",
    "    mask = cv2.resize(mask,(128 ,128), interpolation = cv2.INTER_NEAREST)\n",
    "\n",
    "    mask = np.maximum(img, mask)\n",
    "\n",
    "    z[i] = mask/255\n",
    "\n",
    "plt.imshow(z[0])"
   ]
  },
  {
   "cell_type": "code",
   "execution_count": 5,
   "metadata": {
    "pycharm": {
     "name": "#%%\n"
    }
   },
   "outputs": [
    {
     "name": "stdout",
     "output_type": "stream",
     "text": [
      "Model: \"RESUNET\"\n",
      "__________________________________________________________________________________________________\n",
      " Layer (type)                   Output Shape         Param #     Connected to                     \n",
      "==================================================================================================\n",
      " input_1 (InputLayer)           [(None, 128, 128, 3  0           []                               \n",
      "                                )]                                                                \n",
      "                                                                                                  \n",
      " conv2d (Conv2D)                (None, 128, 128, 64  1792        ['input_1[0][0]']                \n",
      "                                )                                                                 \n",
      "                                                                                                  \n",
      " batch_normalization (BatchNorm  (None, 128, 128, 64  256        ['conv2d[0][0]']                 \n",
      " alization)                     )                                                                 \n",
      "                                                                                                  \n",
      " activation (Activation)        (None, 128, 128, 64  0           ['batch_normalization[0][0]']    \n",
      "                                )                                                                 \n",
      "                                                                                                  \n",
      " conv2d_1 (Conv2D)              (None, 128, 128, 64  36928       ['activation[0][0]']             \n",
      "                                )                                                                 \n",
      "                                                                                                  \n",
      " conv2d_2 (Conv2D)              (None, 128, 128, 64  256         ['input_1[0][0]']                \n",
      "                                )                                                                 \n",
      "                                                                                                  \n",
      " tf.__operators__.add (TFOpLamb  (None, 128, 128, 64  0          ['conv2d_1[0][0]',               \n",
      " da)                            )                                 'conv2d_2[0][0]']               \n",
      "                                                                                                  \n",
      " batch_normalization_1 (BatchNo  (None, 128, 128, 64  256        ['tf.__operators__.add[0][0]']   \n",
      " rmalization)                   )                                                                 \n",
      "                                                                                                  \n",
      " activation_1 (Activation)      (None, 128, 128, 64  0           ['batch_normalization_1[0][0]']  \n",
      "                                )                                                                 \n",
      "                                                                                                  \n",
      " conv2d_3 (Conv2D)              (None, 64, 64, 128)  73856       ['activation_1[0][0]']           \n",
      "                                                                                                  \n",
      " batch_normalization_2 (BatchNo  (None, 64, 64, 128)  512        ['conv2d_3[0][0]']               \n",
      " rmalization)                                                                                     \n",
      "                                                                                                  \n",
      " activation_2 (Activation)      (None, 64, 64, 128)  0           ['batch_normalization_2[0][0]']  \n",
      "                                                                                                  \n",
      " conv2d_4 (Conv2D)              (None, 64, 64, 128)  147584      ['activation_2[0][0]']           \n",
      "                                                                                                  \n",
      " conv2d_5 (Conv2D)              (None, 64, 64, 128)  8320        ['tf.__operators__.add[0][0]']   \n",
      "                                                                                                  \n",
      " tf.__operators__.add_1 (TFOpLa  (None, 64, 64, 128)  0          ['conv2d_4[0][0]',               \n",
      " mbda)                                                            'conv2d_5[0][0]']               \n",
      "                                                                                                  \n",
      " batch_normalization_3 (BatchNo  (None, 64, 64, 128)  512        ['tf.__operators__.add_1[0][0]'] \n",
      " rmalization)                                                                                     \n",
      "                                                                                                  \n",
      " activation_3 (Activation)      (None, 64, 64, 128)  0           ['batch_normalization_3[0][0]']  \n",
      "                                                                                                  \n",
      " conv2d_6 (Conv2D)              (None, 32, 32, 256)  295168      ['activation_3[0][0]']           \n",
      "                                                                                                  \n",
      " batch_normalization_4 (BatchNo  (None, 32, 32, 256)  1024       ['conv2d_6[0][0]']               \n",
      " rmalization)                                                                                     \n",
      "                                                                                                  \n",
      " activation_4 (Activation)      (None, 32, 32, 256)  0           ['batch_normalization_4[0][0]']  \n",
      "                                                                                                  \n",
      " conv2d_7 (Conv2D)              (None, 32, 32, 256)  590080      ['activation_4[0][0]']           \n",
      "                                                                                                  \n",
      " conv2d_8 (Conv2D)              (None, 32, 32, 256)  33024       ['tf.__operators__.add_1[0][0]'] \n",
      "                                                                                                  \n",
      " tf.__operators__.add_2 (TFOpLa  (None, 32, 32, 256)  0          ['conv2d_7[0][0]',               \n",
      " mbda)                                                            'conv2d_8[0][0]']               \n",
      "                                                                                                  \n",
      " batch_normalization_5 (BatchNo  (None, 32, 32, 256)  1024       ['tf.__operators__.add_2[0][0]'] \n",
      " rmalization)                                                                                     \n",
      "                                                                                                  \n",
      " activation_5 (Activation)      (None, 32, 32, 256)  0           ['batch_normalization_5[0][0]']  \n",
      "                                                                                                  \n",
      " conv2d_9 (Conv2D)              (None, 16, 16, 512)  1180160     ['activation_5[0][0]']           \n",
      "                                                                                                  \n",
      " batch_normalization_6 (BatchNo  (None, 16, 16, 512)  2048       ['conv2d_9[0][0]']               \n",
      " rmalization)                                                                                     \n",
      "                                                                                                  \n",
      " activation_6 (Activation)      (None, 16, 16, 512)  0           ['batch_normalization_6[0][0]']  \n",
      "                                                                                                  \n",
      " conv2d_10 (Conv2D)             (None, 16, 16, 512)  2359808     ['activation_6[0][0]']           \n",
      "                                                                                                  \n",
      " conv2d_11 (Conv2D)             (None, 16, 16, 512)  131584      ['tf.__operators__.add_2[0][0]'] \n",
      "                                                                                                  \n",
      " tf.__operators__.add_3 (TFOpLa  (None, 16, 16, 512)  0          ['conv2d_10[0][0]',              \n",
      " mbda)                                                            'conv2d_11[0][0]']              \n",
      "                                                                                                  \n",
      " up_sampling2d (UpSampling2D)   (None, 32, 32, 512)  0           ['tf.__operators__.add_3[0][0]'] \n",
      "                                                                                                  \n",
      " concatenate (Concatenate)      (None, 32, 32, 768)  0           ['up_sampling2d[0][0]',          \n",
      "                                                                  'tf.__operators__.add_2[0][0]'] \n",
      "                                                                                                  \n",
      " batch_normalization_7 (BatchNo  (None, 32, 32, 768)  3072       ['concatenate[0][0]']            \n",
      " rmalization)                                                                                     \n",
      "                                                                                                  \n",
      " activation_7 (Activation)      (None, 32, 32, 768)  0           ['batch_normalization_7[0][0]']  \n",
      "                                                                                                  \n",
      " conv2d_12 (Conv2D)             (None, 32, 32, 256)  1769728     ['activation_7[0][0]']           \n",
      "                                                                                                  \n",
      " batch_normalization_8 (BatchNo  (None, 32, 32, 256)  1024       ['conv2d_12[0][0]']              \n",
      " rmalization)                                                                                     \n",
      "                                                                                                  \n",
      " activation_8 (Activation)      (None, 32, 32, 256)  0           ['batch_normalization_8[0][0]']  \n",
      "                                                                                                  \n",
      " conv2d_13 (Conv2D)             (None, 32, 32, 256)  590080      ['activation_8[0][0]']           \n",
      "                                                                                                  \n",
      " conv2d_14 (Conv2D)             (None, 32, 32, 256)  196864      ['concatenate[0][0]']            \n",
      "                                                                                                  \n",
      " tf.__operators__.add_4 (TFOpLa  (None, 32, 32, 256)  0          ['conv2d_13[0][0]',              \n",
      " mbda)                                                            'conv2d_14[0][0]']              \n",
      "                                                                                                  \n",
      " up_sampling2d_1 (UpSampling2D)  (None, 64, 64, 256)  0          ['tf.__operators__.add_4[0][0]'] \n",
      "                                                                                                  \n",
      " concatenate_1 (Concatenate)    (None, 64, 64, 384)  0           ['up_sampling2d_1[0][0]',        \n",
      "                                                                  'tf.__operators__.add_1[0][0]'] \n",
      "                                                                                                  \n",
      " batch_normalization_9 (BatchNo  (None, 64, 64, 384)  1536       ['concatenate_1[0][0]']          \n",
      " rmalization)                                                                                     \n",
      "                                                                                                  \n",
      " activation_9 (Activation)      (None, 64, 64, 384)  0           ['batch_normalization_9[0][0]']  \n",
      "                                                                                                  \n",
      " conv2d_15 (Conv2D)             (None, 64, 64, 128)  442496      ['activation_9[0][0]']           \n",
      "                                                                                                  \n",
      " batch_normalization_10 (BatchN  (None, 64, 64, 128)  512        ['conv2d_15[0][0]']              \n",
      " ormalization)                                                                                    \n",
      "                                                                                                  \n",
      " activation_10 (Activation)     (None, 64, 64, 128)  0           ['batch_normalization_10[0][0]'] \n",
      "                                                                                                  \n",
      " conv2d_16 (Conv2D)             (None, 64, 64, 128)  147584      ['activation_10[0][0]']          \n",
      "                                                                                                  \n",
      " conv2d_17 (Conv2D)             (None, 64, 64, 128)  49280       ['concatenate_1[0][0]']          \n",
      "                                                                                                  \n",
      " tf.__operators__.add_5 (TFOpLa  (None, 64, 64, 128)  0          ['conv2d_16[0][0]',              \n",
      " mbda)                                                            'conv2d_17[0][0]']              \n",
      "                                                                                                  \n",
      " up_sampling2d_2 (UpSampling2D)  (None, 128, 128, 12  0          ['tf.__operators__.add_5[0][0]'] \n",
      "                                8)                                                                \n",
      "                                                                                                  \n",
      " concatenate_2 (Concatenate)    (None, 128, 128, 19  0           ['up_sampling2d_2[0][0]',        \n",
      "                                2)                                'tf.__operators__.add[0][0]']   \n",
      "                                                                                                  \n",
      " batch_normalization_11 (BatchN  (None, 128, 128, 19  768        ['concatenate_2[0][0]']          \n",
      " ormalization)                  2)                                                                \n",
      "                                                                                                  \n",
      " activation_11 (Activation)     (None, 128, 128, 19  0           ['batch_normalization_11[0][0]'] \n",
      "                                2)                                                                \n",
      "                                                                                                  \n",
      " conv2d_18 (Conv2D)             (None, 128, 128, 64  110656      ['activation_11[0][0]']          \n",
      "                                )                                                                 \n",
      "                                                                                                  \n",
      " batch_normalization_12 (BatchN  (None, 128, 128, 64  256        ['conv2d_18[0][0]']              \n",
      " ormalization)                  )                                                                 \n",
      "                                                                                                  \n",
      " activation_12 (Activation)     (None, 128, 128, 64  0           ['batch_normalization_12[0][0]'] \n",
      "                                )                                                                 \n",
      "                                                                                                  \n",
      " conv2d_19 (Conv2D)             (None, 128, 128, 64  36928       ['activation_12[0][0]']          \n",
      "                                )                                                                 \n",
      "                                                                                                  \n",
      " conv2d_20 (Conv2D)             (None, 128, 128, 64  12352       ['concatenate_2[0][0]']          \n",
      "                                )                                                                 \n",
      "                                                                                                  \n",
      " tf.__operators__.add_6 (TFOpLa  (None, 128, 128, 64  0          ['conv2d_19[0][0]',              \n",
      " mbda)                          )                                 'conv2d_20[0][0]']              \n",
      "                                                                                                  \n",
      " conv2d_21 (Conv2D)             (None, 128, 128, 3)  195         ['tf.__operators__.add_6[0][0]'] \n",
      "                                                                                                  \n",
      "==================================================================================================\n",
      "Total params: 8,227,523\n",
      "Trainable params: 8,221,123\n",
      "Non-trainable params: 6,400\n",
      "__________________________________________________________________________________________________\n"
     ]
    }
   ],
   "source": [
    "def batchnorm_relu(inputs):\n",
    "    x = BatchNormalization()(inputs)\n",
    "    x = Activation(\"relu\")(x)\n",
    "\n",
    "    return x\n",
    "\n",
    "def residual_block(inputs, num_filters, strides=1):\n",
    "    # Convolutional Layers\n",
    "    x = batchnorm_relu(inputs)\n",
    "    x = Conv2D(num_filters, 3, padding=\"same\", strides=strides)(x)\n",
    "    x = batchnorm_relu(x)\n",
    "    x = Conv2D(num_filters, 3, padding=\"same\", strides=1)(x)\n",
    "\n",
    "    # Shortcut Connection (Identity Mapping)\n",
    "    s = Conv2D(num_filters, 1, padding=\"same\", strides=strides)(inputs)\n",
    "\n",
    "    x = x + s\n",
    "    return x\n",
    "\n",
    "\n",
    "def decoder_block(inputs, skip_features, num_filters):\n",
    "    x = UpSampling2D((2, 2))(inputs)\n",
    "    x = Concatenate()([x, skip_features])\n",
    "    x = residual_block(x, num_filters, strides=1)\n",
    "    return x\n",
    "\n",
    "\n",
    "def build_resunet(input_shape):\n",
    "    inputs = Input(input_shape)\n",
    "\n",
    "    # Endoder 1\n",
    "    x = Conv2D(64, 3, padding=\"same\", strides=1)(inputs)\n",
    "    x = batchnorm_relu(x)\n",
    "    x = Conv2D(64, 3, padding=\"same\", strides=1)(x)\n",
    "    s = Conv2D(64, 1, padding=\"same\")(inputs) # Skip connection\n",
    "    s1 = x + s\n",
    "\n",
    "    # Encoder 1 & 2\n",
    "    s2 = residual_block(s1, 128, strides=2)\n",
    "    s3 = residual_block(s2, 256, strides=2)\n",
    "\n",
    "    # Bridge\n",
    "    b = residual_block(s3, 512, strides=2)\n",
    "\n",
    "    # Decoders\n",
    "    x = decoder_block(b, s3, 256)\n",
    "    x = decoder_block(x, s2, 128)\n",
    "    x = decoder_block(x, s1, 64)\n",
    "\n",
    "    # Classifier\n",
    "    #outputs = Conv2D(1, 1, padding=\"same\", activation=\"sigmoid\")\n",
    "    outputs = Conv2D(3, (1,1), padding = \"same\", activation = \"sigmoid\")(x) #TODO: no se que es esto\n",
    "\n",
    "    #Model\n",
    "    model = Model(inputs, outputs, name=\"RESUNET\")\n",
    "\n",
    "    return model\n",
    "\n",
    "shape = (IMG_SIZE, IMG_SIZE, 3)\n",
    "model = build_resunet(shape)\n",
    "model.summary()"
   ]
  },
  {
   "cell_type": "code",
   "execution_count": 6,
   "metadata": {
    "pycharm": {
     "name": "#%%\n"
    }
   },
   "outputs": [],
   "source": [
    "model.compile(optimizer='adam',\n",
    "            loss=utilities.focal_tversky, metrics=[utilities.tversky])"
   ]
  },
  {
   "cell_type": "code",
   "execution_count": 7,
   "outputs": [],
   "source": [
    "early_stopping_cb = tf.keras.callbacks.EarlyStopping(patience=1, monitor='val_tversky')"
   ],
   "metadata": {
    "collapsed": false,
    "pycharm": {
     "name": "#%%\n"
    }
   }
  },
  {
   "cell_type": "code",
   "execution_count": null,
   "metadata": {
    "pycharm": {
     "name": "#%%\n",
     "is_executing": true
    }
   },
   "outputs": [
    {
     "name": "stdout",
     "output_type": "stream",
     "text": [
      "Epoch 1/2\n",
      " 57/208 [=======>......................] - ETA: 30:06 - loss: 0.6001 - tversky: 0.4934"
     ]
    }
   ],
   "source": [
    "history = model.fit(training_generator,\n",
    "                    epochs = 2,\n",
    "                    validation_data=validation_generator,\n",
    "                    batch_size=16,\n",
    "                    validation_batch_size=16,\n",
    "                    callbacks=[early_stopping_cb])"
   ]
  },
  {
   "cell_type": "code",
   "execution_count": null,
   "metadata": {
    "pycharm": {
     "name": "#%%\n",
     "is_executing": true
    }
   },
   "outputs": [],
   "source": [
    "#model.predict()\n",
    "\n",
    "from skimage import io\n",
    "\n",
    "img = validation_generator.__getitem__(2)\n",
    "# plt.imshow(img)\n",
    "\n",
    "res = model.predict(img[0])"
   ]
  },
  {
   "cell_type": "code",
   "execution_count": null,
   "outputs": [],
   "source": [
    "fig, axs = plt.subplots(16,3, figsize=(16,16*3))\n",
    "\n",
    "for x in range(16):\n",
    "  axs[x][0].title.set_text(\"MRI del Cerebro\") # Configuramos el título\n",
    "  axs[x][0].imshow(img[0][x]) # Mostramos la MRI\n",
    "  axs[x][1].title.set_text(\"Máscara - \" ) # Colocámos el título en la máscara (0 o 1)\n",
    "  axs[x][1].imshow(img[1][x]) # Mostramos la máscara correspondiente\n",
    "  axs[x][2].imshow(res[x])\n",
    "  axs[x][2].title.set_text(\"Res\")\n",
    "\n",
    "fig.tight_layout()"
   ],
   "metadata": {
    "collapsed": false,
    "pycharm": {
     "name": "#%%\n",
     "is_executing": true
    }
   }
  }
 ],
 "metadata": {
  "kernelspec": {
   "display_name": "Python 3 (ipykernel)",
   "language": "python",
   "name": "python3"
  },
  "language_info": {
   "codemirror_mode": {
    "name": "ipython",
    "version": 3
   },
   "file_extension": ".py",
   "mimetype": "text/x-python",
   "name": "python",
   "nbconvert_exporter": "python",
   "pygments_lexer": "ipython3",
   "version": "3.10.2"
  }
 },
 "nbformat": 4,
 "nbformat_minor": 1
}